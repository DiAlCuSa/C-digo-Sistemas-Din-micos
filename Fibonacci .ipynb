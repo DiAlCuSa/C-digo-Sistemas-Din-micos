{
 "cells": [
  {
   "cell_type": "markdown",
   "metadata": {},
   "source": [
    "Definimos una función que nos de la serie de Fibonacci hasta un número \"n\"\n",
    "\n",
    "1,1,2,3,5,8,13,21,34,55,89,144,... \n",
    "    "
   ]
  },
  {
   "cell_type": "code",
   "execution_count": 65,
   "metadata": {
    "collapsed": true
   },
   "outputs": [],
   "source": [
    "import math"
   ]
  },
  {
   "cell_type": "code",
   "execution_count": 80,
   "metadata": {
    "collapsed": true
   },
   "outputs": [],
   "source": [
    "def fibonacci1(n):\n",
    "    serie=[0]   \n",
    "    k0=1\n",
    "    k1=1\n",
    "    if n<=0:\n",
    "        print('Necesitamos un número más grande')\n",
    "    elif n==1:\n",
    "        serie.append(k0)\n",
    "        print(serie) \n",
    "    elif n==2:\n",
    "        serie.append(k0)\n",
    "        serie.append(k1)\n",
    "        print(serie)\n",
    "    elif n>=3:\n",
    "        serie.append(k0)\n",
    "        serie.append(k1)\n",
    "        for i in range(1,n-2):\n",
    "            k2=k1+k0\n",
    "            serie.append(k2)\n",
    "            k0=k1\n",
    "            k1=k2\n",
    "            i=i+1\n",
    "        print(serie)\n",
    "        "
   ]
  },
  {
   "cell_type": "code",
   "execution_count": 81,
   "metadata": {},
   "outputs": [
    {
     "name": "stdout",
     "output_type": "stream",
     "text": [
      "[0, 1, 1, 2, 3, 5, 8, 13, 21, 34, 55, 89, 144, 233, 377, 610, 987, 1597, 2584, 4181]\n"
     ]
    }
   ],
   "source": [
    "fibonacci1(20)"
   ]
  },
  {
   "cell_type": "code",
   "execution_count": 75,
   "metadata": {},
   "outputs": [],
   "source": [
    "def recursion(n):\n",
    "    if(n <= 1):\n",
    "        return n\n",
    "    else:\n",
    "        return(recursion(n-1) + recursion(n-2))\n",
    "def fibonacci2(n):\n",
    "    serie=[]\n",
    "    for i in range(n):\n",
    "        serie.append(recursion(i))\n",
    "    print(serie)"
   ]
  },
  {
   "cell_type": "code",
   "execution_count": 76,
   "metadata": {},
   "outputs": [
    {
     "name": "stdout",
     "output_type": "stream",
     "text": [
      "[0, 1, 1, 2, 3, 5, 8, 13, 21, 34, 55, 89, 144, 233, 377, 610, 987, 1597, 2584, 4181]\n"
     ]
    }
   ],
   "source": [
    "fibonacci2(20)"
   ]
  },
  {
   "cell_type": "code",
   "execution_count": 70,
   "metadata": {
    "collapsed": true
   },
   "outputs": [],
   "source": [
    "def fibonacci3(n):\n",
    "    serie=[]\n",
    "    fi=(math.sqrt(5)+1)/2\n",
    "    for i in range(0,n):\n",
    "        fib=int(((fi**i)-((-fi)**-i))/math.sqrt(5))\n",
    "        serie.append(fib)\n",
    "    print(serie)\n",
    "        "
   ]
  },
  {
   "cell_type": "code",
   "execution_count": 72,
   "metadata": {},
   "outputs": [
    {
     "name": "stdout",
     "output_type": "stream",
     "text": [
      "[0, 1, 1, 2, 3, 5, 8, 13, 21, 34, 55, 89, 144, 233, 377, 610, 987, 1597, 2584, 4181]\n"
     ]
    }
   ],
   "source": [
    "fibonacci3(20)"
   ]
  },
  {
   "cell_type": "code",
   "execution_count": null,
   "metadata": {
    "collapsed": true
   },
   "outputs": [],
   "source": []
  }
 ],
 "metadata": {
  "kernelspec": {
   "display_name": "Python 3",
   "language": "python",
   "name": "python3"
  },
  "language_info": {
   "codemirror_mode": {
    "name": "ipython",
    "version": 3
   },
   "file_extension": ".py",
   "mimetype": "text/x-python",
   "name": "python",
   "nbconvert_exporter": "python",
   "pygments_lexer": "ipython3",
   "version": "3.7.1"
  }
 },
 "nbformat": 4,
 "nbformat_minor": 2
}
