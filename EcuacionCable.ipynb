{
 "cells": [
  {
   "cell_type": "markdown",
   "metadata": {},
   "source": [
    "# Ecuación de cable"
   ]
  },
  {
   "cell_type": "code",
   "execution_count": 1,
   "metadata": {
    "collapsed": true
   },
   "outputs": [],
   "source": [
    "import numpy as np\n",
    "import matplotlib.pylab as plt\n",
    "import math\n",
    "%matplotlib inline"
   ]
  },
  {
   "cell_type": "markdown",
   "metadata": {},
   "source": [
    "![title](cable.png)"
   ]
  },
  {
   "cell_type": "markdown",
   "metadata": {},
   "source": [
    "Resolviendo el circuito, se obtiene la siguiente ecuación\n",
    "\n",
    "\\begin{equation}\n",
    "\\tau \\frac{\\partial V}{\\partial t} = \\lambda^2 \\frac{\\partial^2 V}{\\partial x^2}-V\n",
    "\\end{equation}\n",
    "\n",
    "Donde \n",
    "\n",
    "\\begin{equation}\n",
    "\\lambda=\\sqrt{\\frac{a R_m}{2 R_l}}\n",
    "\\end{equation}\n",
    "\n",
    "\\begin{equation}\n",
    "\\tau=c_m R_m\n",
    "\\end{equation}\n",
    "\n",
    "Tomando el caso cuando el voltaje es estable temporalmente ($t\\to \\infty$) se simplifica a:\n",
    "\n",
    "\\begin{equation}\n",
    " \\lambda^2 \\frac{\\partial^2 V}{\\partial x^2}=V\n",
    "\\end{equation}\n",
    "\n",
    "Con condición inicial\n",
    "\n",
    "\\begin{equation}\n",
    "I_0 = \\frac{-\\pi a^2}{r_l}\\frac{\\partial V_0}{\\partial x}\n",
    "\\end{equation}\n",
    "\n",
    "Obtendiendo la solución:\n",
    "\n",
    "\\begin{equation}\n",
    "V(x)=\\frac{\\lambda r_l I_0}{\\pi a^2}e^{\\frac{-x}{\\lambda}}\n",
    "\\end{equation}"
   ]
  },
  {
   "cell_type": "code",
   "execution_count": 98,
   "metadata": {
    "collapsed": true
   },
   "outputs": [],
   "source": [
    "#Generamos un vector x\n",
    "long=np.linspace(0,10,1000)\n",
    "\n",
    "#Definimos la función\n",
    "def voltage(x,a=1,b=1):\n",
    "    return a*np.exp(-x/b)\n",
    "\n",
    "#Evaluamos la función\n",
    "v=voltage(long)"
   ]
  },
  {
   "cell_type": "code",
   "execution_count": 99,
   "metadata": {},
   "outputs": [
    {
     "data": {
      "text/plain": [
       "Text(0.5,1,'Voltaje a lo largo del cable')"
      ]
     },
     "execution_count": 99,
     "metadata": {},
     "output_type": "execute_result"
    },
    {
     "data": {
      "image/png": "[encoded data removed]",
      "text/plain": [
       "<matplotlib.figure.Figure at 0x7f392edef518>"
      ]
     },
     "metadata": {},
     "output_type": "display_data"
    }
   ],
   "source": [
    "plt.plot(long,v)\n",
    "plt.xlabel('x')\n",
    "plt.ylabel('Voltaje')\n",
    "plt.legend()\n",
    "plt.title('Voltaje a lo largo del cable')"
   ]
  },
  {
   "cell_type": "markdown",
   "metadata": {},
   "source": [
    "# Método de Euler \n",
    "Dada una ecuación diferencial \n",
    "\n",
    "\\begin{equation}\n",
    "\\frac{dx}{dt}=f(x,t; parámetros)\n",
    "\\end{equation}\n",
    "\n",
    "Con valor inicial \n",
    "\n",
    "\\begin{equation}\n",
    "x(t_0)=x_0\n",
    "\\end{equation}\n",
    "\n",
    "Se puede aproximar la derivada como:\n",
    "\n",
    "\\begin{equation}\n",
    "\\frac{dx}{dt}\\simeq \\frac{x(t+h)-x(t)}{h}\n",
    "\\end{equation}\n",
    "\n",
    "Donde h es el tamaño del paso y por lo tanto despejando $x(t+h)$ tenemos:\n",
    "\n",
    "\\begin{equation}\n",
    "x(t+h) \\simeq x(t+h)\\frac{dx}{dt}=x(t)+hf(x,t)\n",
    "\\end{equation}\n",
    "\n",
    "Podemos aproximar la solución de la forma:\n",
    "\n",
    "\\begin{equation}\n",
    "x_{n+1}= x_n +hf(x_n,t_n)\n",
    "\\end{equation}"
   ]
  },
  {
   "cell_type": "markdown",
   "metadata": {},
   "source": [
    "# Aproximación\n"
   ]
  },
  {
   "cell_type": "markdown",
   "metadata": {
    "collapsed": true
   },
   "source": [
    "Reescribiendo la ecuación:\n",
    "\n",
    "\\begin{equation}\n",
    "\\lambda^2 \\frac{\\partial^2 V}{\\partial x^2}=V\n",
    "\\end{equation}\n",
    "\n",
    "Como un sistema de ecuaciones de primer orden:\n",
    "    \n",
    "definimos:\n",
    "$$z= V(x)$$ \n",
    "$$w=\\frac{dV(x)}{dx}$$ \n",
    "\n",
    "$$\\to$$\n",
    "\n",
    "$$\\frac{dz(x)}{dx}=\\frac{dV(x)}{dx}= w(x)$$\n",
    "$$\\frac{dw(x)}{dx}=\\frac{d^2 V(x)}{dx^2}=\\frac{V}{\\lambda^2}=\\frac{z(x)}{\\lambda^2}$$\n",
    "\n",
    "$$\\to$$\n",
    "\n",
    "$$\\frac{dz(x)}{dx}=w(x)$$\n",
    "$$\\frac{dw(x)}{dx}=\\frac{z(x)}{\\lambda^2}$$\n",
    "\n",
    "Con la condición inicial de:\n",
    "\n",
    "\\begin{equation}\n",
    "I_0 = \\frac{-\\pi a^2}{r_l}\\frac{\\partial V_0}{\\partial x}\n",
    "\\end{equation}\n",
    "\n",
    "$$\\to$$\n",
    "\n",
    "\\begin{equation}\n",
    "w(0)=\\frac{\\partial V_0}{\\partial x} = \\frac{-r_l I_0}{\\pi a^2}\n",
    "\\end{equation}\n",
    "\n",
    "\n",
    "\n"
   ]
  },
  {
   "cell_type": "code",
   "execution_count": 96,
   "metadata": {
    "collapsed": true
   },
   "outputs": [],
   "source": [
    "def dz(z,w,l):\n",
    "    return w\n",
    "def dw(z,w,l):\n",
    "    return z/(l**2)\n",
    "\n",
    "dt1=0.01\n",
    "\n",
    "# Integramos usando el método de Euler  \n",
    "\n",
    "def euler(dz,dw,dt):\n",
    "    x=np.linspace(0,10,1000)\n",
    "    z=np.zeros(len(x))\n",
    "    w=np.zeros(len(x))\n",
    "    z[0]=1\n",
    "    w[0]=-1\n",
    "    l=1\n",
    "    for i in range(0,len(x)-1):\n",
    "        z[i+1] = z[i] + dz(z[i],w[i],l)*dt\n",
    "        w[i+1] = w[i] + dw(z[i],w[i],l)*dt\n",
    "    return x,z"
   ]
  },
  {
   "cell_type": "code",
   "execution_count": 97,
   "metadata": {},
   "outputs": [
    {
     "data": {
      "text/plain": [
       "Text(0.5,1,'')"
      ]
     },
     "execution_count": 97,
     "metadata": {},
     "output_type": "execute_result"
    },
    {
     "data": {
      "image/png": "[encoded data removed]",
      "text/plain": [
       "<matplotlib.figure.Figure at 0x7f392edefef0>"
      ]
     },
     "metadata": {},
     "output_type": "display_data"
    }
   ],
   "source": [
    "x,z=euler(dz,dw,dt1)\n",
    "plt.plot(x, z)\n",
    "#plt.plot(x,w, label=\"w\")\n",
    "plt.xlabel('x')\n",
    "plt.ylabel('func')\n",
    "plt.legend()\n",
    "plt.title('')"
   ]
  },
  {
   "cell_type": "markdown",
   "metadata": {
    "collapsed": true
   },
   "source": [
    "Comparando la solución original con las soluciones dadas por diferentes \"dt\""
   ]
  },
  {
   "cell_type": "code",
   "execution_count": 134,
   "metadata": {
    "collapsed": true
   },
   "outputs": [],
   "source": [
    "dt0=0.1\n",
    "dt1=0.06\n",
    "dt2=0.03\n",
    "dt3=0.015\n",
    "\n",
    "x0,z0=euler(dz,dw,dt0)\n",
    "x1,z1=euler(dz,dw,dt1)\n",
    "x2,z2=euler(dz,dw,dt2)\n",
    "x3,z3=euler(dz,dw,dt3)\n",
    "\n",
    "\n",
    "long=np.linspace(0,10,1000)\n",
    "def voltage(x,a=1,b=1):\n",
    "    return a*np.exp(-x/b)\n",
    "v=voltage(long)"
   ]
  },
  {
   "cell_type": "code",
   "execution_count": 135,
   "metadata": {},
   "outputs": [
    {
     "data": {
      "text/plain": [
       "Text(0.5,1,'Voltaje a lo largo del cable')"
      ]
     },
     "execution_count": 135,
     "metadata": {},
     "output_type": "execute_result"
    },
    {
     "data": {
      "image/png": "[encoded data removed]",
      "text/plain": [
       "<matplotlib.figure.Figure at 0x7f392e293908>"
      ]
     },
     "metadata": {},
     "output_type": "display_data"
    }
   ],
   "source": [
    "plt.plot(long,v,label='Sol exacta')\n",
    "plt.plot(x0,z0,label='dt=0.1')\n",
    "plt.plot(x1,z1,label='dt=0.06')\n",
    "plt.plot(x2,z2,label='dt=0.03')\n",
    "plt.plot(x3,z3,label='dt=0.015')\n",
    "plt.xlabel('x')\n",
    "plt.ylabel('Voltaje')\n",
    "plt.legend()\n",
    "plt.title('Voltaje a lo largo del cable')"
   ]
  },
  {
   "cell_type": "code",
   "execution_count": null,
   "metadata": {
    "collapsed": true
   },
   "outputs": [],
   "source": []
  }
 ],
 "metadata": {
  "kernelspec": {
   "display_name": "Python 3",
   "language": "python",
   "name": "python3"
  },
  "language_info": {
   "codemirror_mode": {
    "name": "ipython",
    "version": 3
   },
   "file_extension": ".py",
   "mimetype": "text/x-python",
   "name": "python",
   "nbconvert_exporter": "python",
   "pygments_lexer": "ipython3",
   "version": "3.7.1"
  }
 },
 "nbformat": 4,
 "nbformat_minor": 2
}
