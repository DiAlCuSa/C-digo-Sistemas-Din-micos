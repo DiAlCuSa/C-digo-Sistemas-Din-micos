{
 "cells": [
  {
   "cell_type": "code",
   "execution_count": 1,
   "metadata": {
    "collapsed": true
   },
   "outputs": [],
   "source": [
    "import scipy as sc\n",
    "import numpy as np\n",
    "import matplotlib.pylab as plt\n",
    "%matplotlib inline"
   ]
  },
  {
   "cell_type": "markdown",
   "metadata": {},
   "source": [
    "Dadas las ecuaciones\n",
    "\n",
    "$$x_t=x(t)$$\n",
    "$$y_t=x(t)$$\n",
    "$$z_t=z(t)=1-x_t-y_t$$\n",
    "\n",
    "que cumplen que para tiempos discretos \n",
    "\n",
    "$$x_{n+1}=x_n-h\\alpha x_ny_n$$\n",
    "$$y_{n+1}=y_n+h\\alpha x_ny_n-h\\beta y_n$$\n",
    "$$z_{n+1}=1-x_{n+1}-y_{n+1}$$\n",
    "\n",
    "Con las condiciones iniciales de:\n",
    "\n",
    "$$x_0=0.5$$\n",
    "$$y_0=0.5$$\n",
    "$$z_0=1-x_0-y_0$$"
   ]
  },
  {
   "cell_type": "code",
   "execution_count": 31,
   "metadata": {
    "collapsed": true
   },
   "outputs": [],
   "source": [
    "#definimos las funciones para la iteración\n",
    "def iteracion(h,x0,y0,n,a,b):\n",
    "    x=[]\n",
    "    y=[]\n",
    "    z=[]\n",
    "    t=[]\n",
    "    x.append(x0)\n",
    "    y.append(y0)\n",
    "    z.append(z0)\n",
    "    t.append(0.0)\n",
    "    for i in range(0,n):\n",
    "        t.append(h*i)\n",
    "        x.append(x[i]-h*x[i]*y[i]*a)\n",
    "        y.append(y[i]+h*y[i]*x[i]*a-b*h*y[i])\n",
    "        z.append(1-x[i]-y[i])\n",
    "    return x, y,z,t\n"
   ]
  },
  {
   "cell_type": "code",
   "execution_count": 53,
   "metadata": {
    "collapsed": true
   },
   "outputs": [],
   "source": [
    "#Definimos parámetros\n",
    "x0=0.5\n",
    "y0=0.4\n",
    "z0=1-x0-y0\n",
    "a=7\n",
    "b=1\n",
    "h=0.01\n",
    "n=100"
   ]
  },
  {
   "cell_type": "code",
   "execution_count": 54,
   "metadata": {
    "collapsed": true
   },
   "outputs": [],
   "source": [
    "#Llamamos a la función que creamos previamente de iteración\n",
    "x,y,z,t=iteracion(h,x0,y0,n,a,b)"
   ]
  },
  {
   "cell_type": "code",
   "execution_count": 55,
   "metadata": {},
   "outputs": [
    {
     "data": {
      "image/png": "[encoded data removed]",
      "text/plain": [
       "<matplotlib.figure.Figure at 0x7f6838685b38>"
      ]
     },
     "metadata": {},
     "output_type": "display_data"
    }
   ],
   "source": [
    "#Graficamos con respecto a t las diferentes variables\n",
    "plt.plot(t,x, label=\"x\")\n",
    "plt.plot(t,y, label=\"y\")\n",
    "plt.plot(t,z, label=\"z\")\n",
    "plt.xlabel(\"t\")\n",
    "plt.legend()\n",
    "plt.show()"
   ]
  },
  {
   "cell_type": "code",
   "execution_count": null,
   "metadata": {
    "collapsed": true
   },
   "outputs": [],
   "source": []
  }
 ],
 "metadata": {
  "kernelspec": {
   "display_name": "Python 3",
   "language": "python",
   "name": "python3"
  },
  "language_info": {
   "codemirror_mode": {
    "name": "ipython",
    "version": 3
   },
   "file_extension": ".py",
   "mimetype": "text/x-python",
   "name": "python",
   "nbconvert_exporter": "python",
   "pygments_lexer": "ipython3",
   "version": "3.6.3"
  }
 },
 "nbformat": 4,
 "nbformat_minor": 2
}
