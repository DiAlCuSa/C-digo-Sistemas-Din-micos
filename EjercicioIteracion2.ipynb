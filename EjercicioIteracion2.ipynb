{
 "cells": [
  {
   "cell_type": "markdown",
   "metadata": {},
   "source": [
    "# EJEMPLO DE CAOS\n",
    "\n",
    "\\begin{equation}\n",
    "    x_{t+1}=f(x)=4(1-x_t)x_t =4(x_t- x_t^2)\n",
    "\\end{equation}\n",
    "\n",
    "\n",
    "Vamos a iterar con dos Condiciones Iniciales diferentes:\n",
    "\n",
    "<ol>\n",
    "\n",
    "  <li> $X_0$ = 0.523423 </li>\n",
    "  <li> $X_0$ = 0.523424 </li>\n",
    "  \n",
    "</ol>"
   ]
  },
  {
   "cell_type": "code",
   "execution_count": 1,
   "metadata": {
    "collapsed": true
   },
   "outputs": [],
   "source": [
    "import scipy as sc\n",
    "import numpy as np\n",
    "import matplotlib.pylab as plt\n",
    "%matplotlib inline"
   ]
  },
  {
   "cell_type": "markdown",
   "metadata": {},
   "source": [
    "Iterar la misma función para las dos condiciones iniciales, sacar lista y graficar"
   ]
  },
  {
   "cell_type": "code",
   "execution_count": null,
   "metadata": {
    "collapsed": true
   },
   "outputs": [],
   "source": []
  }
 ],
 "metadata": {
  "kernelspec": {
   "display_name": "Python 3",
   "language": "python",
   "name": "python3"
  },
  "language_info": {
   "codemirror_mode": {
    "name": "ipython",
    "version": 3
   },
   "file_extension": ".py",
   "mimetype": "text/x-python",
   "name": "python",
   "nbconvert_exporter": "python",
   "pygments_lexer": "ipython3",
   "version": "3.6.3"
  }
 },
 "nbformat": 4,
 "nbformat_minor": 2
}
